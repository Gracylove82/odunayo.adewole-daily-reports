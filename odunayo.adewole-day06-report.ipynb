{
 "cells": [
  {
   "cell_type": "markdown",
   "id": "integral-aruba",
   "metadata": {},
   "source": [
    "## Question 1\n",
    "\n",
    "1. Compute the following expressions for a natural number n chosen by the user:\n",
    "\n",
    "(i)\n",
    "$$\\sum_{\\small {i=0, \\; \\text{i is odd}}}^{n-1}(i + 3)$$\n",
    "(ii)\n",
    "$$\\prod_{\\small {i=0, \\; \\text{i is even}}}^{n-1}(i + 3)$$"
   ]
  },
  {
   "cell_type": "code",
   "execution_count": 1,
   "id": "relevant-corpus",
   "metadata": {},
   "outputs": [
    {
     "name": "stdout",
     "output_type": "stream",
     "text": [
      "Enter a natural number 6\n",
      "The sum of the odd values is 18\n"
     ]
    }
   ],
   "source": [
    "sum_int = 0\n",
    "users_input = int(input(\"Enter a natural number \"))\n",
    "\n",
    "if users_input > 0: #must be positive integer\n",
    "    for i in range(users_input): #checking each of the digits in the users input\n",
    "        if i % 2 != 0:\n",
    "            a = i + 3\n",
    "            sum_int = sum_int + a\n",
    "    print(f\"The sum of the odd values is {sum_int}\" )"
   ]
  },
  {
   "cell_type": "code",
   "execution_count": 27,
   "id": "diagnostic-mixer",
   "metadata": {},
   "outputs": [
    {
     "name": "stdout",
     "output_type": "stream",
     "text": [
      "Enter a natural number 15\n",
      "The sum of the even values is 11486475\n"
     ]
    }
   ],
   "source": [
    "prod_int = 1\n",
    "users_input = int(input(\"Enter a natural number \"))\n",
    "\n",
    "if users_input > 0: #must be positive integer\n",
    "    for i in range(users_input): #checking each of the digits in the users input\n",
    "        if i % 2 == 0 and i !=0:\n",
    "            a = i + 3\n",
    "            prod_int = prod_int * a\n",
    "    print(f\"The sum of the even values is {prod_int}\" )"
   ]
  },
  {
   "cell_type": "markdown",
   "id": "sweet-resident",
   "metadata": {},
   "source": [
    "## Question 2\n",
    "Write a program that reads the number of the day of the week (from 0 to 6). If it is a\n",
    "working day, then the program will write the name of the corresponding day. Otherwise,\n",
    "it will write the word \"Weekend\"."
   ]
  },
  {
   "cell_type": "code",
   "execution_count": 3,
   "id": "logical-backing",
   "metadata": {
    "scrolled": true
   },
   "outputs": [
    {
     "name": "stdout",
     "output_type": "stream",
     "text": [
      "Weekend\n",
      "Monday is a working day\n",
      "Tuesday is a working day\n",
      "Wednesday is a working day\n",
      "Thursday is a working day\n",
      "Friday is a working day\n",
      "Weekend\n"
     ]
    }
   ],
   "source": [
    "Days = [\"Sunday\", \"Monday\", \"Tuesday\", \"Wednesday\", \"Thursday\", \"Friday\", \"Saturday\"]\n",
    "for i in range(7):\n",
    "    #print(i)\n",
    "    if i in set([1,2,3,4,5]): #working days\n",
    "            print(Days[i], \"is a working day\")\n",
    "    else:\n",
    "        print(\"Weekend\")"
   ]
  },
  {
   "cell_type": "markdown",
   "id": "naughty-probe",
   "metadata": {},
   "source": [
    "## Question 3\n",
    "Make a program that, given a month number (from 0 to 11), indicates how many days it\n",
    "has (28, 30 or 31), ignoring the leap years.\n",
    "\n",
    "   "
   ]
  },
  {
   "cell_type": "code",
   "execution_count": 4,
   "id": "characteristic-renewal",
   "metadata": {},
   "outputs": [
    {
     "name": "stdout",
     "output_type": "stream",
     "text": [
      "January has 31 days\n",
      "February has 28 days\n",
      "March has 31 days\n",
      "April has 30 days\n",
      "May has 31 days\n",
      "June has 30 days\n",
      "July has 31 days\n",
      "August has 31 days\n",
      "September has 30 days\n",
      "October has 31 days\n",
      "November has 30 days\n",
      "December has 31 days\n"
     ]
    }
   ],
   "source": [
    "Months = [\"January\", \"February\", \"March\", \"April\",\n",
    "          \"May\", \"June\", \"July\", \"August\", \"September\", \"October\", \"November\", \"December\"]\n",
    "for i in range(12):\n",
    "    if i == 1:\n",
    "        print(Months[i], \"has 28 days\")\n",
    "    elif i in ([8, 3, 5, 10]):\n",
    "        print(Months[i], \"has 30 days\")\n",
    "    elif i in set([0, 2, 4, 6, 7, 9, 11]):\n",
    "        print(Months[i], \"has 31 days\")"
   ]
  },
  {
   "cell_type": "markdown",
   "id": "employed-appliance",
   "metadata": {},
   "source": [
    "## Question 4\n",
    "Write two versions of python code that displays your name 3 times. One version with a\n",
    "\"for loop\" and another version with a \"while loop\"."
   ]
  },
  {
   "cell_type": "code",
   "execution_count": 5,
   "id": "polished-composite",
   "metadata": {},
   "outputs": [
    {
     "name": "stdout",
     "output_type": "stream",
     "text": [
      "Grace\n",
      "Grace\n",
      "Grace\n"
     ]
    }
   ],
   "source": [
    "#for loop\n",
    "for i in range(3):\n",
    "    print(\"Grace\")"
   ]
  },
  {
   "cell_type": "code",
   "execution_count": 6,
   "id": "split-protest",
   "metadata": {},
   "outputs": [
    {
     "name": "stdout",
     "output_type": "stream",
     "text": [
      "Grace\n",
      "Grace\n",
      "Grace\n"
     ]
    }
   ],
   "source": [
    "#while loop\n",
    "i = 1\n",
    "\n",
    "name = \"Grace\"\n",
    "\n",
    "while i<=3:\n",
    "    print(name)\n",
    "    i+=1\n",
    "    "
   ]
  },
  {
   "cell_type": "markdown",
   "id": "national-modification",
   "metadata": {},
   "source": [
    "## Question 5\n",
    "Given two numbers a 0 and a 1 , the Fibonacci sequence they generate is constructed from\n",
    "the recursion formula $a_{n+1} = a_{n} + a_{n−1}$. Calculate the first 15 terms of a Fibonacci\n",
    "sequence, asking the user the initial values."
   ]
  },
  {
   "cell_type": "code",
   "execution_count": 24,
   "id": "spoken-technique",
   "metadata": {},
   "outputs": [
    {
     "name": "stdout",
     "output_type": "stream",
     "text": [
      "Enter an integer 1\n",
      "Enter an integer 2\n",
      "1\n",
      "2\n",
      "3\n",
      "5\n",
      "8\n",
      "13\n",
      "21\n",
      "34\n",
      "55\n",
      "89\n",
      "144\n",
      "233\n",
      "377\n",
      "610\n",
      "987\n"
     ]
    }
   ],
   "source": [
    "a_0 = int(input(\"Enter an integer \"))\n",
    "\n",
    "a_1 = int(input(\"Enter an integer \"))\n",
    "print(a_0)\n",
    "print(a_1)\n",
    "\n",
    "for i in range(2, 15):\n",
    "    a_i = a_0 + a_1\n",
    "    print(a_i)\n",
    "    a_0 = a_1\n",
    "    a_1 = a_i\n"
   ]
  },
  {
   "cell_type": "markdown",
   "id": "subject-lloyd",
   "metadata": {},
   "source": [
    "## Question 6\n",
    "Compute the first 30 terms of the sequence defined by $2x_{n+2} − x_{n+1} − 6x_{n} = 0$ sequence,\n",
    "given any two initial values x_0 and x_1"
   ]
  },
  {
   "cell_type": "code",
   "execution_count": null,
   "id": "automated-salon",
   "metadata": {},
   "outputs": [],
   "source": []
  },
  {
   "cell_type": "markdown",
   "id": "precious-wheat",
   "metadata": {},
   "source": [
    "## Question 7\n",
    "Write python code to determine whether or not a year is a leap year. Be sure you\n",
    "know what a leap year is."
   ]
  },
  {
   "cell_type": "code",
   "execution_count": 8,
   "id": "sharp-virgin",
   "metadata": {},
   "outputs": [
    {
     "name": "stdout",
     "output_type": "stream",
     "text": [
      "2000 is a leap year\n",
      "2004 is a leap year\n",
      "2008 is a leap year\n",
      "2012 is a leap year\n",
      "2016 is a leap year\n",
      "2020 is a leap year\n",
      "2024 is a leap year\n",
      "2028 is a leap year\n"
     ]
    }
   ],
   "source": [
    "# A leap year is divisible by 4, not divisible by 100 or divisible by 400\n",
    "\n",
    "for i in range(2000, 2031):\n",
    "    if (i % 4 == 0 and i % 100 != 0 or i % 400 == 0):\n",
    "        print(f\"{i} is a leap year\")"
   ]
  },
  {
   "cell_type": "markdown",
   "id": "judicial-texture",
   "metadata": {},
   "source": [
    "## Question 8\n",
    "a) Write python code that computes the sum of the square of the first n natural numbers.\n",
    "One version with a \"for loop\" and another version with a \"while loop\".\n",
    "b) Write python code that prints, for a natural number M , the smallest natural number\n",
    "n such that 1 2 + 2 2 + · · · + n 2 ≥ M. One version with a \"for loop\" and another version\n",
    "with a \"while loop\"."
   ]
  },
  {
   "cell_type": "code",
   "execution_count": null,
   "id": "wanted-clark",
   "metadata": {},
   "outputs": [],
   "source": []
  },
  {
   "cell_type": "markdown",
   "id": "confidential-morocco",
   "metadata": {},
   "source": [
    "## Question 9\n",
    "\n",
    "a) Write python code that prints all the divisors of a given natural number.\n",
    "\n",
    "b) Read an integer number input by the user and calculate its prime factors. This will\n",
    "just be some of its divisors."
   ]
  },
  {
   "cell_type": "code",
   "execution_count": 9,
   "id": "viral-comfort",
   "metadata": {},
   "outputs": [
    {
     "name": "stdout",
     "output_type": "stream",
     "text": [
      "Enter a natural number 4\n",
      "The divisor of 4 is 1\n",
      "The divisor of 4 is 2\n",
      "The divisor of 4 is 4\n"
     ]
    }
   ],
   "source": [
    "# a\n",
    "user_input = int(input(\"Enter a natural number \"))\n",
    "for i in range(1, user_input + 1):\n",
    "    if user_input % i == 0:\n",
    "        print(f\"The divisor of {user_input} is {i}\")"
   ]
  },
  {
   "cell_type": "code",
   "execution_count": 23,
   "id": "statewide-father",
   "metadata": {
    "scrolled": true
   },
   "outputs": [
    {
     "name": "stdout",
     "output_type": "stream",
     "text": [
      "Enter a natural number 30\n",
      "[2, 3, 5]\n"
     ]
    }
   ],
   "source": [
    "# b\n",
    "user_input = int(input(\"Enter a natural number \"))\n",
    "\n",
    "primeFac=[]\n",
    "for i in range(2, user_input + 1):\n",
    "    while user_input % i == 0:\n",
    "        user_input = user_input / i\n",
    "        primeFac.append(i)\n",
    "        \n",
    "print(primeFac)"
   ]
  },
  {
   "cell_type": "markdown",
   "id": "checked-ethnic",
   "metadata": {},
   "source": [
    "## Question 10\n",
    "Read an integer number between n 0 and 9 and print its multiplication table up to N\n",
    "where N is another another natural number read by the program."
   ]
  },
  {
   "cell_type": "code",
   "execution_count": null,
   "id": "editorial-booth",
   "metadata": {},
   "outputs": [],
   "source": []
  },
  {
   "cell_type": "markdown",
   "id": "burning-patio",
   "metadata": {},
   "source": [
    "## Question 11\n",
    "Write a program that prints all the numbers between 0 and 40 that are multiples of 3, 7\n",
    "or 11."
   ]
  },
  {
   "cell_type": "code",
   "execution_count": 18,
   "id": "photographic-scope",
   "metadata": {},
   "outputs": [
    {
     "name": "stdout",
     "output_type": "stream",
     "text": [
      "0\n",
      "3\n",
      "6\n",
      "7\n",
      "9\n",
      "11\n",
      "12\n",
      "14\n",
      "15\n",
      "18\n",
      "21\n",
      "22\n",
      "24\n",
      "27\n",
      "28\n",
      "30\n",
      "33\n",
      "35\n",
      "36\n",
      "39\n"
     ]
    }
   ],
   "source": [
    "for i in range(0, 40):\n",
    "    if (i % 3 == 0 or i % 7 == 0 or i % 11 == 0):\n",
    "        print(i)"
   ]
  },
  {
   "cell_type": "markdown",
   "id": "intellectual-citizen",
   "metadata": {},
   "source": [
    "## Question 12\n",
    "Write python code that prints the floor of a float x. Recall that the floor of a float x is the\n",
    "largest integer value less than or equal to x, i.e. if $E[x]$ is the floor of x, then it satisfies,\n",
    "$E[x] = 1 + E[x − 1]$\n",
    "\n",
    "PS: On Friday, you will be asked to write a recursive version of the above program."
   ]
  },
  {
   "cell_type": "code",
   "execution_count": null,
   "id": "initial-enforcement",
   "metadata": {},
   "outputs": [],
   "source": []
  },
  {
   "cell_type": "markdown",
   "id": "engaging-dominican",
   "metadata": {},
   "source": [
    "## Question 13\n",
    "Given a point in the plane by its Cartesian coordinates, determine in which quadrant it is\n",
    "(1st, 2nd, 3rd, 4th), if it lies on an axis, or if it is the origin. Do this for several points in\n",
    "the same execution of the program until the user quits."
   ]
  },
  {
   "cell_type": "code",
   "execution_count": null,
   "id": "liquid-director",
   "metadata": {},
   "outputs": [],
   "source": []
  },
  {
   "cell_type": "markdown",
   "id": "taken-updating",
   "metadata": {},
   "source": [
    "## Question 14\n",
    "\n",
    "Ask for an integer number between 0 and 9, denoted x. Once the user has entered a correct\n",
    "number (that is one in the range [0..10)) the program asks for a second integer number\n",
    "between 0 and 255, denoted max. The program continues asking for the number until it\n",
    "is correct (that it is in the range [0..256)). When this is done, show all multiples of x that\n",
    "are between 0 and max. Then, ask the user whether he/she wants to continue; if in the\n",
    "affirmative, ask for another couple of numbers, otherwise finish."
   ]
  },
  {
   "cell_type": "code",
   "execution_count": null,
   "id": "future-invitation",
   "metadata": {},
   "outputs": [],
   "source": []
  }
 ],
 "metadata": {
  "kernelspec": {
   "display_name": "Python 3",
   "language": "python",
   "name": "python3"
  },
  "language_info": {
   "codemirror_mode": {
    "name": "ipython",
    "version": 3
   },
   "file_extension": ".py",
   "mimetype": "text/x-python",
   "name": "python",
   "nbconvert_exporter": "python",
   "pygments_lexer": "ipython3",
   "version": "3.9.2"
  }
 },
 "nbformat": 4,
 "nbformat_minor": 5
}
