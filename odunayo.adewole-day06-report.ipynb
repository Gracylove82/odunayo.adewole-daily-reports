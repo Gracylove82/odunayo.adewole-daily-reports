{
 "cells": [
  {
   "cell_type": "markdown",
   "id": "integral-aruba",
   "metadata": {},
   "source": [
    "## Question 1\n",
    "\n",
    "1. Compute the following expressions for a natural number n chosen by the user:\n",
    "\n",
    "(i)\n",
    "$$\\sum_{\\small {i=0, \\; \\text{i is odd}}}^{n-1}(i + 3)$$\n",
    "(ii)\n",
    "$$\\prod_{\\small {i=0, \\; \\text{i is even}}}^{n-1}(i + 3)$$"
   ]
  },
  {
   "cell_type": "code",
   "execution_count": 21,
   "id": "relevant-corpus",
   "metadata": {},
   "outputs": [
    {
     "name": "stdout",
     "output_type": "stream",
     "text": [
      "Enter a natural number 4\n",
      "The sum of the odd values is 10\n"
     ]
    }
   ],
   "source": [
    "sum_int = 0\n",
    "users_input = int(input(\"Enter a natural number \"))\n",
    "\n",
    "if users_input > 0: #must be positive integer\n",
    "    for i in range(users_input): #checking each of the digits in the users input\n",
    "        if i % 2 != 0:\n",
    "            a = i + 3\n",
    "            sum_int = sum_int + a\n",
    "    print(f\"The sum of the odd values is {sum_int}\" )"
   ]
  },
  {
   "cell_type": "code",
   "execution_count": 22,
   "id": "diagnostic-mixer",
   "metadata": {},
   "outputs": [
    {
     "name": "stdout",
     "output_type": "stream",
     "text": [
      "Enter a natural number 4\n",
      "The sum of the even values is 5\n"
     ]
    }
   ],
   "source": [
    "prod_int = 1\n",
    "users_input = int(input(\"Enter a natural number \"))\n",
    "\n",
    "if users_input > 0: #must be positive integer\n",
    "    for i in range(users_input): #checking each of the digits in the users input\n",
    "        if i % 2 == 0 and i !=0:\n",
    "            a = i + 3\n",
    "            prod_int = prod_int * a\n",
    "    print(f\"The sum of the even values is {prod_int}\" )"
   ]
  },
  {
   "cell_type": "markdown",
   "id": "sweet-resident",
   "metadata": {},
   "source": [
    "## Question 2\n",
    "Write a program that reads the number of the day of the week (from 0 to 6). If it is a\n",
    "working day, then the program will write the name of the corresponding day. Otherwise,\n",
    "it will write the word \"Weekend\"."
   ]
  },
  {
   "cell_type": "code",
   "execution_count": 23,
   "id": "logical-backing",
   "metadata": {
    "scrolled": true
   },
   "outputs": [
    {
     "name": "stdout",
     "output_type": "stream",
     "text": [
      "Weekend\n",
      "Monday is a working day\n",
      "Tuesday is a working day\n",
      "Wednesday is a working day\n",
      "Thursday is a working day\n",
      "Friday is a working day\n",
      "Weekend\n"
     ]
    }
   ],
   "source": [
    "Days = [\"Sunday\", \"Monday\", \"Tuesday\", \"Wednesday\", \"Thursday\", \"Friday\", \"Saturday\"]\n",
    "for i in range(7):\n",
    "    #print(i)\n",
    "    if i in set([1,2,3,4,5]): #working days\n",
    "            print(Days[i], \"is a working day\")\n",
    "    else:\n",
    "        print(\"Weekend\")"
   ]
  },
  {
   "cell_type": "markdown",
   "id": "naughty-probe",
   "metadata": {},
   "source": [
    "## Question 3\n",
    "Make a program that, given a month number (from 0 to 11), indicates how many days it\n",
    "has (28, 30 or 31), ignoring the leap years.\n",
    "\n",
    "   "
   ]
  },
  {
   "cell_type": "code",
   "execution_count": 24,
   "id": "characteristic-renewal",
   "metadata": {},
   "outputs": [
    {
     "name": "stdout",
     "output_type": "stream",
     "text": [
      "January has 31 days\n",
      "February has 28 days\n",
      "March has 31 days\n",
      "April has 30 days\n",
      "May has 31 days\n",
      "June has 30 days\n",
      "July has 31 days\n",
      "August has 31 days\n",
      "September has 30 days\n",
      "October has 31 days\n",
      "November has 30 days\n",
      "December has 31 days\n"
     ]
    }
   ],
   "source": [
    "Months = [\"January\", \"February\", \"March\", \"April\",\n",
    "          \"May\", \"June\", \"July\", \"August\", \"September\", \"October\", \"November\", \"December\"]\n",
    "for i in range(12):\n",
    "    if i == 1:\n",
    "        print(Months[i], \"has 28 days\")\n",
    "    elif i in ([8, 3, 5, 10]):\n",
    "        print(Months[i], \"has 30 days\")\n",
    "    elif i in set([0, 2, 4, 6, 7, 9, 11]):\n",
    "        print(Months[i], \"has 31 days\")"
   ]
  },
  {
   "cell_type": "markdown",
   "id": "employed-appliance",
   "metadata": {},
   "source": [
    "## Question 4\n",
    "Write two versions of python code that displays your name 3 times. One version with a\n",
    "\"for loop\" and another version with a \"while loop\"."
   ]
  },
  {
   "cell_type": "code",
   "execution_count": 25,
   "id": "polished-composite",
   "metadata": {},
   "outputs": [
    {
     "name": "stdout",
     "output_type": "stream",
     "text": [
      "Grace\n",
      "Grace\n",
      "Grace\n"
     ]
    }
   ],
   "source": [
    "#for loop\n",
    "for i in range(3):\n",
    "    print(\"Grace\")"
   ]
  },
  {
   "cell_type": "code",
   "execution_count": 26,
   "id": "split-protest",
   "metadata": {},
   "outputs": [
    {
     "name": "stdout",
     "output_type": "stream",
     "text": [
      "Grace\n",
      "Grace\n",
      "Grace\n"
     ]
    }
   ],
   "source": [
    "#while loop\n",
    "i = 1\n",
    "\n",
    "name = \"Grace\"\n",
    "\n",
    "while i<=3:\n",
    "    print(name)\n",
    "    i+=1\n",
    "    "
   ]
  },
  {
   "cell_type": "markdown",
   "id": "national-modification",
   "metadata": {},
   "source": [
    "## Question 5\n",
    "Given two numbers a 0 and a 1 , the Fibonacci sequence they generate is constructed from\n",
    "the recursion formula $a_{n+1} = a_{n} + a_{n−1}$. Calculate the first 15 terms of a Fibonacci\n",
    "sequence, asking the user the initial values."
   ]
  },
  {
   "cell_type": "code",
   "execution_count": 27,
   "id": "spoken-technique",
   "metadata": {},
   "outputs": [
    {
     "name": "stdout",
     "output_type": "stream",
     "text": [
      "Enter an integer, a_0 1\n",
      "Enter an integer, a_1 2\n",
      "1\n",
      "2\n",
      "3\n",
      "5\n",
      "8\n",
      "13\n",
      "21\n",
      "34\n",
      "55\n",
      "89\n",
      "144\n",
      "233\n",
      "377\n",
      "610\n",
      "987\n"
     ]
    }
   ],
   "source": [
    "a_0 = int(input(\"Enter an integer, a_0 \"))\n",
    "\n",
    "a_1 = int(input(\"Enter an integer, a_1 \"))\n",
    "print(a_0)\n",
    "print(a_1)\n",
    "\n",
    "for i in range(2, 15):\n",
    "    a_i = a_0 + a_1\n",
    "    print(a_i)\n",
    "    a_0 = a_1\n",
    "    a_1 = a_i\n"
   ]
  },
  {
   "cell_type": "markdown",
   "id": "subject-lloyd",
   "metadata": {},
   "source": [
    "## Question 6\n",
    "Compute the first 30 terms of the sequence defined by $2x_{n+2} − x_{n+1} − 6x_{n} = 0$ sequence,\n",
    "given any two initial values x_0 and x_1\n",
    "\n",
    "$$x_{n+2} = \\frac{x_{n+1} + 6x_{n}}{2}$$"
   ]
  },
  {
   "cell_type": "code",
   "execution_count": 28,
   "id": "automated-salon",
   "metadata": {},
   "outputs": [
    {
     "name": "stdout",
     "output_type": "stream",
     "text": [
      "1\n",
      "2\n",
      "4\n",
      "8\n",
      "16\n",
      "32\n",
      "64\n",
      "128\n",
      "256\n",
      "512\n",
      "1024\n",
      "2048\n",
      "4096\n",
      "8192\n",
      "16384\n",
      "32768\n",
      "65536\n",
      "131072\n",
      "262144\n",
      "524288\n",
      "1048576\n",
      "2097152\n",
      "4194304\n",
      "8388608\n",
      "16777216\n",
      "33554432\n",
      "67108864\n",
      "134217728\n",
      "268435456\n",
      "536870912\n"
     ]
    }
   ],
   "source": [
    "x_0 = 1\n",
    "x_1 = 2\n",
    "print(x_0)\n",
    "print(x_1)\n",
    "for i in range(2, 30):\n",
    "    next_sequence = (x_1 + 6 * x_0)//2\n",
    "    print(next_sequence)\n",
    "    x_0 = x_1\n",
    "    x_1 =  next_sequence"
   ]
  },
  {
   "cell_type": "markdown",
   "id": "precious-wheat",
   "metadata": {},
   "source": [
    "## Question 7\n",
    "Write python code to determine whether or not a year is a leap year. Be sure you\n",
    "know what a leap year is."
   ]
  },
  {
   "cell_type": "code",
   "execution_count": 29,
   "id": "sharp-virgin",
   "metadata": {},
   "outputs": [
    {
     "name": "stdout",
     "output_type": "stream",
     "text": [
      "2000 is a leap year\n",
      "2004 is a leap year\n",
      "2008 is a leap year\n",
      "2012 is a leap year\n",
      "2016 is a leap year\n",
      "2020 is a leap year\n",
      "2024 is a leap year\n",
      "2028 is a leap year\n"
     ]
    }
   ],
   "source": [
    "# A leap year is divisible by 4, not divisible by 100 or divisible by 400\n",
    "\n",
    "for i in range(2000, 2031):\n",
    "    if (i % 4 == 0 and i % 100 != 0 or i % 400 == 0):\n",
    "        print(f\"{i} is a leap year\")"
   ]
  },
  {
   "cell_type": "markdown",
   "id": "judicial-texture",
   "metadata": {},
   "source": [
    "## Question 8\n",
    "a) Write python code that computes the sum of the square of the first n natural numbers.\n",
    "One version with a \"for loop\" and another version with a \"while loop\".\n",
    "b) Write python code that prints, for a natural number M , the smallest natural number\n",
    "n such that $1^2 + 2^2 + · · · + n^2 ≥ M$. One version with a \"for loop\" and another version\n",
    "with a \"while loop\"."
   ]
  },
  {
   "cell_type": "code",
   "execution_count": 30,
   "id": "wanted-clark",
   "metadata": {
    "scrolled": true
   },
   "outputs": [
    {
     "name": "stdout",
     "output_type": "stream",
     "text": [
      "Enter a natural number 5\n",
      "55\n"
     ]
    }
   ],
   "source": [
    "#for loop\n",
    "numbre = int(input(\"Enter a natural number \"))\n",
    "sum_numbre = 0\n",
    "for i in range(1, numbre+1):\n",
    "    a = i**2\n",
    "    sum_numbre += a\n",
    "print(sum_numbre)"
   ]
  },
  {
   "cell_type": "code",
   "execution_count": 31,
   "id": "loose-anxiety",
   "metadata": {
    "scrolled": true
   },
   "outputs": [
    {
     "name": "stdout",
     "output_type": "stream",
     "text": [
      "Enter a natural number 5\n",
      "55\n"
     ]
    }
   ],
   "source": [
    "#while loop\n",
    "numbre = int(input(\"Enter a natural number \"))\n",
    "sum_numbre = 0\n",
    "i = 1\n",
    "while i<=numbre:\n",
    "    a = i**2\n",
    "    sum_numbre += a\n",
    "    i+=1\n",
    "print(sum_numbre)"
   ]
  },
  {
   "cell_type": "code",
   "execution_count": 32,
   "id": "direct-spelling",
   "metadata": {
    "scrolled": true
   },
   "outputs": [
    {
     "name": "stdout",
     "output_type": "stream",
     "text": [
      "Enter a natural number 4\n",
      "2\n"
     ]
    }
   ],
   "source": [
    "#for loop\n",
    "numbre = int(input(\"Enter a natural number \"))\n",
    "sum_numbre = 0\n",
    "for i in range(1, numbre+1):\n",
    "    a = i**2\n",
    "    sum_numbre += a\n",
    "    if sum_numbre >= numbre:\n",
    "        print(i)\n",
    "        break"
   ]
  },
  {
   "cell_type": "code",
   "execution_count": 33,
   "id": "diagnostic-prescription",
   "metadata": {},
   "outputs": [
    {
     "name": "stdout",
     "output_type": "stream",
     "text": [
      "Enter a natural number 4\n",
      "2\n"
     ]
    }
   ],
   "source": [
    "#while loop\n",
    "numbre = int(input(\"Enter a natural number \"))\n",
    "sum_numbre = 0\n",
    "i = 1\n",
    "while sum_numbre < numbre:\n",
    "    a = i**2\n",
    "    sum_numbre += a\n",
    "    if sum_numbre >= numbre:\n",
    "        print(i)\n",
    "        break\n",
    "    i+=1"
   ]
  },
  {
   "cell_type": "markdown",
   "id": "confidential-morocco",
   "metadata": {},
   "source": [
    "## Question 9\n",
    "\n",
    "a) Write python code that prints all the divisors of a given natural number.\n",
    "\n",
    "b) Read an integer number input by the user and calculate its prime factors. This will\n",
    "just be some of its divisors."
   ]
  },
  {
   "cell_type": "code",
   "execution_count": 35,
   "id": "viral-comfort",
   "metadata": {},
   "outputs": [
    {
     "name": "stdout",
     "output_type": "stream",
     "text": [
      "Enter a natural number 8\n",
      "The divisor of 8 is 1\n",
      "The divisor of 8 is 2\n",
      "The divisor of 8 is 4\n",
      "The divisor of 8 is 8\n"
     ]
    }
   ],
   "source": [
    "# a\n",
    "user_input = int(input(\"Enter a natural number \"))\n",
    "for i in range(1, user_input + 1):\n",
    "    if user_input % i == 0:\n",
    "        print(f\"The divisor of {user_input} is {i}\")"
   ]
  },
  {
   "cell_type": "code",
   "execution_count": 36,
   "id": "statewide-father",
   "metadata": {
    "scrolled": true
   },
   "outputs": [
    {
     "name": "stdout",
     "output_type": "stream",
     "text": [
      "Enter a natural number 32\n",
      "[2, 2, 2, 2, 2]\n"
     ]
    }
   ],
   "source": [
    "# b\n",
    "user_input = int(input(\"Enter a natural number \"))\n",
    "\n",
    "primeFac=[]\n",
    "for i in range(2, user_input + 1):\n",
    "    while user_input % i == 0:\n",
    "        user_input = user_input / i\n",
    "        primeFac.append(i)\n",
    "        \n",
    "print(primeFac)"
   ]
  },
  {
   "cell_type": "markdown",
   "id": "checked-ethnic",
   "metadata": {},
   "source": [
    "## Question 10\n",
    "Read an integer number between $n$, 0 and 9 and print its multiplication table up to $N$\n",
    "where $N$ is another another natural number read by the program."
   ]
  },
  {
   "cell_type": "code",
   "execution_count": 37,
   "id": "editorial-booth",
   "metadata": {},
   "outputs": [
    {
     "name": "stdout",
     "output_type": "stream",
     "text": [
      "Enter a value 7\n",
      "7 * 0 = 0\n",
      "7 * 1 = 7\n",
      "7 * 2 = 14\n",
      "7 * 3 = 21\n",
      "7 * 4 = 28\n",
      "7 * 5 = 35\n",
      "7 * 6 = 42\n",
      "7 * 7 = 49\n",
      "7 * 8 = 56\n",
      "7 * 9 = 63\n"
     ]
    }
   ],
   "source": [
    "numb = int(input(\"Enter a value \"))\n",
    "\n",
    "if numb >= 0 and numb <=9: #restricting the numb to be between 0 and 9\n",
    "    for i in range(10):\n",
    "        print(f\"{numb} * {i} = {numb * i}\")\n",
    "    "
   ]
  },
  {
   "cell_type": "markdown",
   "id": "burning-patio",
   "metadata": {},
   "source": [
    "## Question 11\n",
    "Write a program that prints all the numbers between 0 and 40 that are multiples of 3, 7\n",
    "or 11."
   ]
  },
  {
   "cell_type": "code",
   "execution_count": 38,
   "id": "photographic-scope",
   "metadata": {},
   "outputs": [
    {
     "name": "stdout",
     "output_type": "stream",
     "text": [
      "0\n",
      "3\n",
      "6\n",
      "7\n",
      "9\n",
      "11\n",
      "12\n",
      "14\n",
      "15\n",
      "18\n",
      "21\n",
      "22\n",
      "24\n",
      "27\n",
      "28\n",
      "30\n",
      "33\n",
      "35\n",
      "36\n",
      "39\n"
     ]
    }
   ],
   "source": [
    "for i in range(0, 40):\n",
    "    if (i % 3 == 0 or i % 7 == 0 or i % 11 == 0):\n",
    "        print(i)"
   ]
  },
  {
   "cell_type": "markdown",
   "id": "intellectual-citizen",
   "metadata": {},
   "source": [
    "## Question 12\n",
    "Write python code that prints the floor of a float x. Recall that the floor of a float x is the\n",
    "largest integer value less than or equal to x, i.e. if $E[x]$ is the floor of x, then it satisfies,\n",
    "$E[x] = 1 + E[x − 1]$\n",
    "\n",
    "PS: On Friday, you will be asked to write a recursive version of the above program."
   ]
  },
  {
   "cell_type": "code",
   "execution_count": 39,
   "id": "initial-enforcement",
   "metadata": {},
   "outputs": [
    {
     "name": "stdout",
     "output_type": "stream",
     "text": [
      "Enter a float value 3.5\n",
      "3\n"
     ]
    }
   ],
   "source": [
    "user_float = float(input(\"Enter a float value \"))\n",
    "print(int(user_float))"
   ]
  },
  {
   "cell_type": "markdown",
   "id": "engaging-dominican",
   "metadata": {},
   "source": [
    "## Question 13\n",
    "Given a point in the plane by its Cartesian coordinates, determine in which quadrant it is\n",
    "(1st, 2nd, 3rd, 4th), if it lies on an axis, or if it is the origin. Do this for several points in\n",
    "the same execution of the program until the user quits."
   ]
  },
  {
   "cell_type": "code",
   "execution_count": 40,
   "id": "junior-cheese",
   "metadata": {},
   "outputs": [
    {
     "name": "stdout",
     "output_type": "stream",
     "text": [
      "Enter a value, x 3\n",
      "Enter a value, y 4\n",
      "The coordinates falls in the first quadrant\n",
      "Enter a value, x 5\n",
      "Enter a value, y 6\n",
      "The coordinates falls in the first quadrant\n",
      "Enter a value, x 7\n",
      "Enter a value, y 8\n",
      "The coordinates falls in the first quadrant\n",
      "Enter a value, x 9\n",
      "Enter a value, y 0\n",
      "The coordinates is in the origin\n",
      "Enter a value, x -4\n",
      "Enter a value, y 5\n",
      "The coordinates falls in the second quadrant\n",
      "Do you want to continue, y/n y\n",
      "Enter a value, x 5\n",
      "Enter a value, y -4\n",
      "The coordinates falls in the fourth quadrant\n",
      "Enter a value, x 3\n",
      "Enter a value, y 2\n",
      "The coordinates falls in the first quadrant\n",
      "Enter a value, x 5\n",
      "Enter a value, y 7\n",
      "The coordinates falls in the first quadrant\n",
      "Enter a value, x 8\n",
      "Enter a value, y 9\n",
      "The coordinates falls in the first quadrant\n",
      "Enter a value, x -4\n",
      "Enter a value, y 6\n",
      "The coordinates falls in the second quadrant\n",
      "Do you want to continue, y/n n\n"
     ]
    }
   ],
   "source": [
    "i = 0\n",
    "count = 5\n",
    "while True:\n",
    "    x = int(input(\"Enter a value, x \"))\n",
    "    y = int(input(\"Enter a value, y \"))\n",
    "    if x > 0 and y > 0:\n",
    "        print(\"The coordinates falls in the first quadrant\")\n",
    "    elif x < 0 and y > 0:\n",
    "        print(\"The coordinates falls in the second quadrant\")\n",
    "    elif x < 0 and y < 0:\n",
    "        print(\"The coordinates falls in the third quadrant\")\n",
    "    elif x > 0 and y < 0:\n",
    "        print(\"The coordinates falls in the fourth quadrant\")\n",
    "    else:\n",
    "        print(\"The coordinates is in the origin\")\n",
    "        \n",
    "    i+=1 \n",
    "    if i % count == 0:\n",
    "        decision = input(\"Do you want to continue, y/n \")\n",
    "        if decision != \"y\":\n",
    "            break"
   ]
  },
  {
   "cell_type": "markdown",
   "id": "taken-updating",
   "metadata": {},
   "source": [
    "#### Question 14\n",
    "\n",
    "Ask for an integer number between 0 and 9, denoted x. Once the user has entered a correct\n",
    "number (that is one in the range [0..10)) the program asks for a second integer number\n",
    "between 0 and 255, denoted max. The program continues asking for the number until it\n",
    "is correct (that it is in the range [0..256)). When this is done, show all multiples of x that\n",
    "are between 0 and max. Then, ask the user whether he/she wants to continue; if in the\n",
    "affirmative, ask for another couple of numbers, otherwise finish."
   ]
  },
  {
   "cell_type": "code",
   "execution_count": 41,
   "id": "future-invitation",
   "metadata": {},
   "outputs": [],
   "source": [
    "# x = int(input(\"Enter an integer, x \"))\n",
    "# if x >= 0 and x <= 9:\n",
    "#     print(\"You entered an integer within the range\")\n",
    "#     Max = int(input(\"Enter an integer, Max \"))\n",
    "#     if Max >= 0 and Max <= 255:\n",
    "#         print(\"You entered an integer within the range\")\n",
    "#         for i in range(0, 256):\n",
    "#             if i%x == 0:\n",
    "#                 print(i)\n",
    "#     else:\n",
    "#         print(\"Out of range\")\n",
    "# else:\n",
    "#     print(\"Out of range\")\n",
    "        \n",
    "            "
   ]
  },
  {
   "cell_type": "code",
   "execution_count": 42,
   "id": "provincial-pastor",
   "metadata": {},
   "outputs": [
    {
     "name": "stdout",
     "output_type": "stream",
     "text": [
      "Enter an integer, x 5\n",
      "Enter an integer, Max 23\n",
      "0\n",
      "5\n",
      "10\n",
      "15\n",
      "20\n",
      "Do you want to continue?, y/n y\n",
      "Enter an integer, x 6\n",
      "Enter an integer, Max 45\n",
      "0\n",
      "6\n",
      "12\n",
      "18\n",
      "24\n",
      "30\n",
      "36\n",
      "42\n",
      "Do you want to continue?, y/n n\n"
     ]
    }
   ],
   "source": [
    "while True:\n",
    "    \n",
    "    while True:\n",
    "        x = int(input(\"Enter an integer, x \"))\n",
    "        if x >= 0 and x <= 9:\n",
    "            break \n",
    "        else:\n",
    "            print(\"choose a correct value between 0 to 9\") \n",
    "    while True:\n",
    "        Max = int(input(\"Enter an integer, Max \"))\n",
    "        if Max >= 0 and Max <= 255:\n",
    "            break \n",
    "        else:\n",
    "            print(\"choose a correct value between 0 to 255\")\n",
    "    for i in range(0, Max+1):\n",
    "        if i%x == 0:\n",
    "            print(i) #multiple of x between 0 and 255\n",
    "   \n",
    "    decision = input(\"Do you want to continue?, y/n \")\n",
    "    if decision != \"y\":\n",
    "        break"
   ]
  },
  {
   "cell_type": "code",
   "execution_count": null,
   "id": "directed-count",
   "metadata": {},
   "outputs": [],
   "source": []
  }
 ],
 "metadata": {
  "kernelspec": {
   "display_name": "Python 3",
   "language": "python",
   "name": "python3"
  },
  "language_info": {
   "codemirror_mode": {
    "name": "ipython",
    "version": 3
   },
   "file_extension": ".py",
   "mimetype": "text/x-python",
   "name": "python",
   "nbconvert_exporter": "python",
   "pygments_lexer": "ipython3",
   "version": "3.9.2"
  }
 },
 "nbformat": 4,
 "nbformat_minor": 5
}
