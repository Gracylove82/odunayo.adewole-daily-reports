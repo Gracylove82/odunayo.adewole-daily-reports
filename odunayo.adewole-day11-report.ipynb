{
 "cells": [
  {
   "cell_type": "markdown",
   "id": "946dcae8",
   "metadata": {},
   "source": [
    "# Practical_6: Numpy"
   ]
  },
  {
   "cell_type": "markdown",
   "id": "9a78d71c",
   "metadata": {},
   "source": [
    "---\n",
    "\n",
    "### Exercise 1:\n",
    "Create a NumPy array of integers from 1 to 10.\n",
    "\n",
    "```python\n",
    "# Exercise 1\n",
    "```\n",
    "\n",
    "---\n",
    "\n",
    "### Exercise 2:\n",
    "Create a 3x3 NumPy array filled with zeros.\n",
    "\n",
    "```python\n",
    "# Exercise 2\n",
    "```\n",
    "\n",
    "---\n",
    "\n",
    "### Exercise 3:\n",
    "Create a NumPy array of 10 evenly spaced numbers between 0 and 5.\n",
    "\n",
    "```python\n",
    "# Exercise 3\n",
    "```\n",
    "\n",
    "---\n",
    "\n",
    "### Exercise 4:\n",
    "Create a 5x5 identity matrix using NumPy.\n",
    "\n",
    "```python\n",
    "# Exercise 4\n",
    "```\n",
    "\n",
    "---\n",
    "\n",
    "### Exercise 5:\n",
    "Create a 4x4 matrix with random values between 0 and 1.\n",
    "\n",
    "```python\n",
    "# Exercise 5\n",
    "```\n",
    "\n",
    "---\n",
    "\n",
    "### Exercise 6:\n",
    "Find the shape of a NumPy array.\n",
    "\n",
    "```python\n",
    "# Exercise 6\n",
    "```\n",
    "\n",
    "---\n",
    "\n",
    "### Exercise 7:\n",
    "Reshape a 1D NumPy array of 16 elements into a 4x4 matrix.\n",
    "\n",
    "```python\n",
    "# Exercise 7\n",
    "```\n",
    "\n",
    "---\n",
    "\n",
    "### Exercise 8:\n",
    "Find the data type of the elements in a NumPy array.\n",
    "\n",
    "```python\n",
    "# Exercise 8\n",
    "```\n",
    "\n",
    "---\n",
    "\n",
    "### Exercise 9:\n",
    "Create a NumPy array of integers from 1 to 100 and find all even numbers in the array.\n",
    "\n",
    "```python\n",
    "# Exercise 9\n",
    "```\n",
    "\n",
    "---\n",
    "\n",
    "### Exercise 10:\n",
    "Generate a 6x6 matrix of random integers between 10 and 50.\n",
    "\n",
    "```python\n",
    "# Exercise 10\n",
    "```\n",
    "\n",
    "---\n",
    "\n",
    "### Exercise 11:\n",
    "Slice a 2D NumPy array to extract a submatrix.\n",
    "\n",
    "```python\n",
    "# Exercise 11\n",
    "```\n",
    "\n",
    "---\n",
    "\n",
    "### Exercise 12:\n",
    "Calculate the sum of all elements in a NumPy array.\n",
    "\n",
    "```python\n",
    "# Exercise 12\n",
    "```\n",
    "\n",
    "---\n",
    "\n",
    "### Exercise 13:\n",
    "Calculate the mean, median, and standard deviation of a NumPy array.\n",
    "\n",
    "```python\n",
    "# Exercise 13\n",
    "```\n",
    "\n",
    "---\n",
    "\n",
    "### Exercise 14:\n",
    "Find the maximum and minimum values in a NumPy array.\n",
    "\n",
    "```python\n",
    "# Exercise 14\n",
    "```\n",
    "\n",
    "---\n",
    "\n",
    "### Exercise 15:\n",
    "Create a NumPy array of 20 random integers and find the index of the maximum value.\n",
    "\n",
    "```python\n",
    "# Exercise 15\n",
    "```\n",
    "\n",
    "---\n",
    "\n",
    "### Exercise 16:\n",
    "Create a NumPy array and reverse its elements.\n",
    "\n",
    "```python\n",
    "# Exercise 16\n",
    "```\n",
    "\n",
    "---\n",
    "\n",
    "### Exercise 17:\n",
    "Create a 3x3 matrix and multiply it element-wise by another 3x3 matrix.\n",
    "\n",
    "```python\n",
    "# Exercise 17\n",
    "```\n",
    "\n",
    "---\n",
    "\n",
    "### Exercise 18:\n",
    "Create a diagonal matrix from a given 1D array.\n",
    "\n",
    "```python\n",
    "# Exercise 18\n",
    "```\n",
    "\n",
    "---\n",
    "\n",
    "### Exercise 19:\n",
    "Perform matrix multiplication on two 2D NumPy arrays.\n",
    "\n",
    "```python\n",
    "# Exercise 19\n",
    "```\n",
    "\n",
    "---\n",
    "\n",
    "### Exercise 20:\n",
    "Flatten a 2D NumPy array into a 1D array.\n",
    "\n",
    "```python\n",
    "# Exercise 20\n",
    "```\n",
    "\n",
    "---\n",
    "\n",
    "### Exercise 21:\n",
    "Stack two NumPy arrays vertically.\n",
    "\n",
    "```python\n",
    "# Exercise 21\n",
    "```\n",
    "\n",
    "---\n",
    "\n",
    "### Exercise 22:\n",
    "Stack two NumPy arrays horizontally.\n",
    "\n",
    "```python\n",
    "# Exercise 22\n",
    "```\n",
    "\n",
    "---\n",
    "\n",
    "### Exercise 23:\n",
    "Split a NumPy array into multiple sub-arrays.\n",
    "\n",
    "```python\n",
    "# Exercise 23\n",
    "```\n",
    "\n",
    "---\n",
    "\n",
    "### Exercise 24:\n",
    "Generate a random NumPy array and round each element to two decimal places.\n",
    "\n",
    "```python\n",
    "# Exercise 24\n",
    "```\n",
    "\n",
    "---\n",
    "\n",
    "### Exercise 25:\n",
    "Find the unique elements of a NumPy array.\n",
    "\n",
    "```python\n",
    "# Exercise 25\n",
    "```\n",
    "\n",
    "---\n",
    "\n",
    "### Exercise 26:\n",
    "Replace all elements in a NumPy array that are less than a specific value with that value.\n",
    "\n",
    "```python\n",
    "# Exercise 26\n",
    "```\n",
    "\n",
    "---\n",
    "\n",
    "### Exercise 27:\n",
    "Find the cumulative sum of the elements in a NumPy array.\n",
    "\n",
    "```python\n",
    "# Exercise 27\n",
    "```\n",
    "\n",
    "---\n",
    "\n",
    "### Exercise 28:\n",
    "Create a NumPy array and find the number of non-zero elements in it.\n",
    "\n",
    "```python\n",
    "# Exercise 28\n",
    "```\n",
    "\n",
    "---\n",
    "\n",
    "### Exercise 29:\n",
    "Create a NumPy array of random integers and sort it in ascending order.\n",
    "\n",
    "```python\n",
    "# Exercise 29\n",
    "```\n",
    "\n",
    "---\n",
    "\n",
    "### Exercise 30:\n",
    "Find the row-wise and column-wise sum of a 3x3 matrix.\n",
    "\n",
    "```python\n",
    "# Exercise 30\n",
    "```\n",
    "\n",
    "---\n",
    "\n",
    "### Exercise 31:\n",
    "Generate a 2D NumPy array with random values and normalize it (scale the values between 0 and 1).\n",
    "\n",
    "```python\n",
    "# Exercise 31\n",
    "```\n",
    "\n",
    "---\n",
    "\n",
    "### Exercise 32:\n",
    "Create two NumPy arrays and find the dot product.\n",
    "\n",
    "```python\n",
    "# Exercise 32\n",
    "```\n",
    "\n",
    "---\n",
    "\n",
    "### Exercise 33:\n",
    "Find the trace of a square NumPy matrix.\n",
    "\n",
    "```python\n",
    "# Exercise 33\n",
    "```\n",
    "\n",
    "---\n",
    "\n",
    "### Exercise 34:\n",
    "Create a 2D array and swap two rows.\n",
    "\n",
    "```python\n",
    "# Exercise 34\n",
    "```\n",
    "\n",
    "---\n",
    "\n",
    "### Exercise 35:\n",
    "Create a 1D NumPy array and convert it into a column vector.\n",
    "\n",
    "```python\n",
    "# Exercise 35\n",
    "```\n",
    "\n",
    "---\n",
    "\n",
    "### Exercise 36:\n",
    "Find the determinant of a 3x3 matrix.\n",
    "\n",
    "```python\n",
    "# Exercise 36\n",
    "```\n",
    "\n",
    "---\n",
    "\n",
    "### Exercise 37:\n",
    "Find the eigenvalues and eigenvectors of a 2x2 matrix.\n",
    "\n",
    "```python\n",
    "# Exercise 37\n",
    "```\n",
    "\n",
    "---\n",
    "\n",
    "### Exercise 38:\n",
    "Solve a system of linear equations using NumPy.\n",
    "\n",
    "```python\n",
    "# Exercise 38\n",
    "```\n",
    "\n",
    "---\n",
    "\n",
    "### Exercise 39:\n",
    "Add Gaussian noise to a NumPy array.\n",
    "\n",
    "```python\n",
    "# Exercise 39\n",
    "```\n",
    "\n",
    "---\n",
    "\n",
    "### Exercise 40:\n",
    "Create a 4x4 matrix and extract the diagonal elements.\n",
    "\n",
    "```python\n",
    "# Exercise 40\n",
    "```\n",
    "\n",
    "---\n",
    "\n",
    "### Exercise 41:\n",
    "Generate a NumPy array of 100 random values and clip the values to a range between 10 and 50.\n",
    "\n",
    "```python\n",
    "# Exercise 41\n",
    "```\n",
    "\n",
    "---\n",
    "\n",
    "### Exercise 42:\n",
    "Create a 2D NumPy array and replace all negative values with zero.\n",
    "\n",
    "```python\n",
    "# Exercise 42\n",
    "```\n",
    "\n",
    "---\n",
    "\n",
    "### Exercise 43:\n",
    "Find the inner and outer products of two NumPy arrays.\n",
    "\n",
    "```python\n",
    "# Exercise 43\n",
    "```\n",
    "\n",
    "---\n",
    "\n",
    "### Exercise 44:\n",
    "Calculate the pairwise distances between points in a NumPy array.\n",
    "\n",
    "```python\n",
    "# Exercise 44\n",
    "```\n",
    "\n",
    "---\n",
    "\n",
    "### Exercise 45:\n",
    "Create a structured NumPy array with fields for `name`, `age`, and `height`.\n",
    "\n",
    "```python\n",
    "# Exercise 45\n",
    "```\n",
    "\n",
    "---\n",
    "\n",
    "### Exercise 46:\n",
    "Create a 5x5 matrix of random integers and count the occurrences of each unique value.\n",
    "\n",
    "```python\n",
    "# Exercise 46\n",
    "```\n",
    "\n",
    "---\n",
    "\n",
    "### Exercise 47:\n",
    "Generate a random 3x3 NumPy array and subtract the mean of each row from the corresponding row.\n",
    "\n",
    "```python\n",
    "# Exercise 47\n",
    "```\n",
    "\n",
    "---\n",
    "\n",
    "### Exercise 48:\n",
    "Create a NumPy array of random integers and check if any of the values are greater than 50.\n",
    "\n",
    "```python\n",
    "# Exercise 48\n",
    "```\n",
    "\n",
    "---\n",
    "\n",
    "### Exercise 49:\n",
    "Calculate the moving average of a 1D NumPy array.\n",
    "\n",
    "```python\n",
    "# Exercise 49\n",
    "```\n",
    "\n",
    "---\n",
    "\n",
    "### Exercise 50:\n",
    "Find the Pearson correlation coefficient between two NumPy arrays.\n",
    "\n",
    "```python\n",
    "# Exercise 50\n",
    "```\n",
    "\n",
    "---\n",
    "\n",
    "### Exercise 51:\n",
    "Convert a NumPy array of radians to degrees.\n",
    "\n",
    "```python\n",
    "# Exercise 51\n",
    "```\n",
    "\n",
    "---\n",
    "\n",
    "### Exercise 52:\n",
    "Create a random NumPy array and compute its variance and standard deviation.\n",
    "\n",
    "```python\n",
    "# Exercise 52\n",
    "```\n",
    "\n",
    "---\n",
    "\n",
    "### Exercise 53:\n",
    "Create a 2D NumPy array and find the indices of the maximum values along each axis.\n",
    "\n",
    "```python\n",
    "# Exercise 53\n",
    "```\n",
    "\n",
    "---\n",
    "\n",
    "### Exercise 54:\n",
    "Compute the inverse of a 2x2 NumPy matrix.\n",
    "\n",
    "```python\n",
    "# Exercise 54\n",
    "```\n",
    "\n",
    "---\n",
    "\n",
    "### Exercise 55:\n",
    "Create a NumPy array of 10 random values and standardize it (mean 0, variance 1).\n",
    "\n",
    "```python\n",
    "# Exercise 55\n",
    "```\n",
    "\n",
    "---\n",
    "\n",
    "### Exercise 56:\n",
    "Perform element-wise addition and subtraction on two NumPy arrays.\n",
    "\n",
    "```python\n",
    "# Exercise 56\n",
    "```\n",
    "\n",
    "---\n",
    "\n",
    "### Exercise 57:\n",
    "Create a NumPy array of random values and find the maximum element's index.\n",
    "\n",
    "```python\n",
    "# Exercise 57\n",
    "```\n",
    "\n",
    "---\n",
    "\n",
    "### Exercise 58:\n",
    "Create a 3x3 NumPy array and rotate it by 90 degrees.\n",
    "\n",
    "```python\n",
    "# Exercise 58\n",
    "```\n",
    "\n",
    "---\n",
    "\n",
    "### Exercise 59:\n",
    "Compute the Frobenius norm of a matrix.\n",
    "\n",
    "```python\n",
    "# Exercise 59\n",
    "```\n",
    "\n",
    "---\n",
    "\n",
    "### Exercise 60:\n",
    "Create a 3D NumPy array and slice out a subarray.\n",
    "\n",
    "```python\n",
    "# Exercise 60\n",
    "```\n",
    "\n",
    "---\n"
   ]
  },
  {
   "cell_type": "markdown",
   "id": "extra-coverage",
   "metadata": {},
   "source": [
    "Exercise 1:\n",
    "\n",
    "Create a NumPy array of integers from 1 to 10.\n",
    "\n",
    "# Exercise 1"
   ]
  },
  {
   "cell_type": "code",
   "execution_count": 1,
   "id": "impressed-helena",
   "metadata": {},
   "outputs": [],
   "source": [
    "import numpy as np"
   ]
  },
  {
   "cell_type": "code",
   "execution_count": 32,
   "id": "egyptian-seven",
   "metadata": {},
   "outputs": [
    {
     "data": {
      "text/plain": [
       "array([ 1,  2,  3,  4,  5,  6,  7,  8,  9, 10])"
      ]
     },
     "execution_count": 32,
     "metadata": {},
     "output_type": "execute_result"
    }
   ],
   "source": [
    "my_integers = np.arange(1, 11)\n",
    "my_integers"
   ]
  },
  {
   "cell_type": "markdown",
   "id": "activated-circuit",
   "metadata": {},
   "source": [
    "Exercise 2:\n",
    "\n",
    "Create a 3x3 NumPy array filled with zeros.\n",
    "\n",
    "# Exercise 2"
   ]
  },
  {
   "cell_type": "code",
   "execution_count": 10,
   "id": "excessive-dream",
   "metadata": {},
   "outputs": [
    {
     "data": {
      "text/plain": [
       "array([[0., 0., 0.],\n",
       "       [0., 0., 0.],\n",
       "       [0., 0., 0.]])"
      ]
     },
     "execution_count": 10,
     "metadata": {},
     "output_type": "execute_result"
    }
   ],
   "source": [
    "my_zero = np.zeros((3,3))\n",
    "my_zero"
   ]
  },
  {
   "cell_type": "markdown",
   "id": "imperial-moses",
   "metadata": {},
   "source": [
    "Exercise 3:\n",
    "\n",
    "Create a NumPy array of 10 evenly spaced numbers between 0 and 5.\n",
    "\n",
    "# Exercise 3"
   ]
  },
  {
   "cell_type": "code",
   "execution_count": 12,
   "id": "billion-response",
   "metadata": {},
   "outputs": [
    {
     "data": {
      "text/plain": [
       "array([0.        , 0.55555556, 1.11111111, 1.66666667, 2.22222222,\n",
       "       2.77777778, 3.33333333, 3.88888889, 4.44444444, 5.        ])"
      ]
     },
     "execution_count": 12,
     "metadata": {},
     "output_type": "execute_result"
    }
   ],
   "source": [
    "my_numbers = np.linspace(0, 5, 10)\n",
    "my_numbers"
   ]
  },
  {
   "cell_type": "markdown",
   "id": "harmful-registration",
   "metadata": {},
   "source": [
    "Exercise 4:\n",
    "\n",
    "Create a 5x5 identity matrix using NumPy.\n",
    "\n",
    "# Exercise 4"
   ]
  },
  {
   "cell_type": "code",
   "execution_count": 17,
   "id": "different-aaron",
   "metadata": {},
   "outputs": [
    {
     "data": {
      "text/plain": [
       "array([[1., 0., 0., 0., 0.],\n",
       "       [0., 1., 0., 0., 0.],\n",
       "       [0., 0., 1., 0., 0.],\n",
       "       [0., 0., 0., 1., 0.],\n",
       "       [0., 0., 0., 0., 1.]])"
      ]
     },
     "execution_count": 17,
     "metadata": {},
     "output_type": "execute_result"
    }
   ],
   "source": [
    "my_identity_mat = np.eye(5, 5)\n",
    "my_identity_mat"
   ]
  },
  {
   "cell_type": "markdown",
   "id": "interesting-overall",
   "metadata": {},
   "source": [
    "Exercise 5:\n",
    "\n",
    "Create a 4x4 matrix with random values between 0 and 1.\n",
    "\n",
    "# Exercise 5"
   ]
  },
  {
   "cell_type": "code",
   "execution_count": 25,
   "id": "alpine-lingerie",
   "metadata": {},
   "outputs": [
    {
     "data": {
      "text/plain": [
       "array([[1, 0, 0, 1],\n",
       "       [1, 0, 0, 0],\n",
       "       [0, 1, 0, 0],\n",
       "       [0, 1, 1, 0]])"
      ]
     },
     "execution_count": 25,
     "metadata": {},
     "output_type": "execute_result"
    }
   ],
   "source": [
    "np.random.randint(2, size = (4,4))"
   ]
  },
  {
   "cell_type": "code",
   "execution_count": 26,
   "id": "compatible-delta",
   "metadata": {},
   "outputs": [],
   "source": [
    "#help(np.random.randint)"
   ]
  },
  {
   "cell_type": "markdown",
   "id": "trying-connectivity",
   "metadata": {},
   "source": [
    "Exercise 6:\n",
    "\n",
    "Find the shape of a NumPy array.\n",
    "\n",
    "# Exercise 6\n",
    "\n"
   ]
  },
  {
   "cell_type": "code",
   "execution_count": 33,
   "id": "fantastic-volume",
   "metadata": {},
   "outputs": [
    {
     "data": {
      "text/plain": [
       "(10,)"
      ]
     },
     "execution_count": 33,
     "metadata": {},
     "output_type": "execute_result"
    }
   ],
   "source": [
    "#recall my_integers array\n",
    "\n",
    "my_integers.shape #a one dimensional array with 10 elements."
   ]
  },
  {
   "cell_type": "markdown",
   "id": "stretch-champagne",
   "metadata": {},
   "source": [
    "Exercise 7:\n",
    "\n",
    "Reshape a 1D NumPy array of 16 elements into a 4x4 matrix.\n",
    "\n",
    "# Exercise 7"
   ]
  },
  {
   "cell_type": "code",
   "execution_count": 35,
   "id": "lightweight-gentleman",
   "metadata": {},
   "outputs": [
    {
     "data": {
      "text/plain": [
       "array([[ 0,  1,  2,  3],\n",
       "       [ 4,  5,  6,  7],\n",
       "       [ 8,  9, 10, 11],\n",
       "       [12, 13, 14, 15]])"
      ]
     },
     "execution_count": 35,
     "metadata": {},
     "output_type": "execute_result"
    }
   ],
   "source": [
    "np.arange(16).reshape(4, 4)"
   ]
  },
  {
   "cell_type": "markdown",
   "id": "encouraging-honor",
   "metadata": {},
   "source": [
    "Exercise 8:\n",
    "\n",
    "Find the data type of the elements in a NumPy array.\n",
    "\n",
    "# Exercise 8"
   ]
  },
  {
   "cell_type": "code",
   "execution_count": 39,
   "id": "complicated-institution",
   "metadata": {},
   "outputs": [
    {
     "data": {
      "text/plain": [
       "dtype('int64')"
      ]
     },
     "execution_count": 39,
     "metadata": {},
     "output_type": "execute_result"
    }
   ],
   "source": [
    "my_integers.dtype"
   ]
  },
  {
   "cell_type": "markdown",
   "id": "hundred-stable",
   "metadata": {},
   "source": [
    "Exercise 9:\n",
    "\n",
    "Create a NumPy array of integers from 1 to 100 and find all even numbers in the array.\n",
    "\n",
    "# Exercise 9\n",
    "\n"
   ]
  },
  {
   "cell_type": "code",
   "execution_count": 44,
   "id": "charged-diana",
   "metadata": {},
   "outputs": [
    {
     "data": {
      "text/plain": [
       "array([  2,   4,   6,   8,  10,  12,  14,  16,  18,  20,  22,  24,  26,\n",
       "        28,  30,  32,  34,  36,  38,  40,  42,  44,  46,  48,  50,  52,\n",
       "        54,  56,  58,  60,  62,  64,  66,  68,  70,  72,  74,  76,  78,\n",
       "        80,  82,  84,  86,  88,  90,  92,  94,  96,  98, 100])"
      ]
     },
     "execution_count": 44,
     "metadata": {},
     "output_type": "execute_result"
    }
   ],
   "source": [
    "my_int = np.arange(1, 101)\n",
    "#my_int\n",
    "my_int[my_int%2 == 0] #indexing"
   ]
  },
  {
   "cell_type": "markdown",
   "id": "stunning-venezuela",
   "metadata": {},
   "source": [
    "Exercise 10:\n",
    "\n",
    "Generate a 6x6 matrix of random integers between 10 and 50.\n",
    "\n",
    "# Exercise 10"
   ]
  },
  {
   "cell_type": "code",
   "execution_count": 45,
   "id": "imported-plymouth",
   "metadata": {},
   "outputs": [
    {
     "data": {
      "text/plain": [
       "array([[ 1,  3, 40,  9, 35, 44],\n",
       "       [30, 33,  2,  6, 25, 17],\n",
       "       [44, 27, 14, 47, 38, 34],\n",
       "       [47, 43, 32, 30, 12, 15],\n",
       "       [ 6,  3,  8, 27, 47, 41],\n",
       "       [16,  1, 41, 13, 49, 21]])"
      ]
     },
     "execution_count": 45,
     "metadata": {},
     "output_type": "execute_result"
    }
   ],
   "source": [
    "np.random.randint(50, size = (6, 6))"
   ]
  },
  {
   "cell_type": "markdown",
   "id": "flush-thing",
   "metadata": {},
   "source": [
    "Exercise 11:\n",
    "\n",
    "Slice a 2D NumPy array to extract a submatrix.\n",
    "\n",
    "# Exercise 11"
   ]
  },
  {
   "cell_type": "code",
   "execution_count": 51,
   "id": "curious-ghost",
   "metadata": {},
   "outputs": [
    {
     "name": "stdout",
     "output_type": "stream",
     "text": [
      "[[2 4 5 6]\n",
      " [3 5 6 8]]\n"
     ]
    },
    {
     "data": {
      "text/plain": [
       "(2, 4)"
      ]
     },
     "execution_count": 51,
     "metadata": {},
     "output_type": "execute_result"
    }
   ],
   "source": [
    "my_2darray = np.array([[2, 4, 5, 6], [3, 5, 6, 8]])\n",
    "print(my_2darray)\n",
    "my_2darray.shape #checking or confirming it's a 2d array"
   ]
  },
  {
   "cell_type": "markdown",
   "id": "dominant-yorkshire",
   "metadata": {},
   "source": [
    "Exercise 12:\n",
    "\n",
    "Calculate the sum of all elements in a NumPy array.\n",
    "\n",
    "# Exercise 12"
   ]
  },
  {
   "cell_type": "code",
   "execution_count": 52,
   "id": "fewer-trial",
   "metadata": {},
   "outputs": [
    {
     "data": {
      "text/plain": [
       "39"
      ]
     },
     "execution_count": 52,
     "metadata": {},
     "output_type": "execute_result"
    }
   ],
   "source": [
    "np.sum(my_2darray) #sum"
   ]
  },
  {
   "cell_type": "markdown",
   "id": "changed-interstate",
   "metadata": {},
   "source": [
    "Exercise 13:\n",
    "\n",
    "Calculate the mean, median, and standard deviation of a NumPy array.\n",
    "\n",
    "# Exercise 13"
   ]
  },
  {
   "cell_type": "code",
   "execution_count": 58,
   "id": "corrected-conditioning",
   "metadata": {},
   "outputs": [
    {
     "name": "stdout",
     "output_type": "stream",
     "text": [
      "4.875\n",
      "5.0\n",
      "1.7633419974582356\n"
     ]
    }
   ],
   "source": [
    "print(np.mean(my_2darray))  #mean for the whole array\n",
    "\n",
    "print(np.median(my_2darray)) #median for the whole array\n",
    "\n",
    "print(np.std(my_2darray)) #standard deviation for the whole array\n",
    "\n",
    "\n",
    "\n"
   ]
  },
  {
   "cell_type": "code",
   "execution_count": 67,
   "id": "cubic-rough",
   "metadata": {},
   "outputs": [
    {
     "name": "stdout",
     "output_type": "stream",
     "text": [
      "4.875\n",
      "3.5\n"
     ]
    }
   ],
   "source": [
    "print(np.mean(my_2darray[0:2, :])) #row 0 and 1 for all column\n",
    "\n",
    "print(np.mean(my_2darray[:, 0:2])) #all column for row 0 and 2"
   ]
  },
  {
   "cell_type": "code",
   "execution_count": 56,
   "id": "expired-directive",
   "metadata": {},
   "outputs": [],
   "source": [
    "#dir(np)"
   ]
  },
  {
   "cell_type": "markdown",
   "id": "certain-mercy",
   "metadata": {},
   "source": [
    "Exercise 14:\n",
    "\n",
    "Find the maximum and minimum values in a NumPy array.\n",
    "\n",
    "# Exercise 14"
   ]
  },
  {
   "cell_type": "code",
   "execution_count": 74,
   "id": "integrated-volunteer",
   "metadata": {
    "scrolled": true
   },
   "outputs": [
    {
     "name": "stdout",
     "output_type": "stream",
     "text": [
      "8\n",
      "2\n",
      "[3 5 6 8]\n",
      "[[2 4 5 6]\n",
      " [3 5 6 8]]\n"
     ]
    }
   ],
   "source": [
    "print(np.max(my_2darray)) #maximum in the array\n",
    "\n",
    "print(np.min(my_2darray)) #minimum in the array\n",
    "\n",
    "\n",
    "print(np.max(my_2darray, axis = 0)) #the max in all row, column 0\n",
    "\n",
    "print(my_2darray)"
   ]
  },
  {
   "cell_type": "code",
   "execution_count": 83,
   "id": "engaging-dairy",
   "metadata": {},
   "outputs": [
    {
     "data": {
      "text/plain": [
       "array([[95, 66, 26, 91, 79, 39, 92, 88],\n",
       "       [16, 75, 57, 33, 57, 61, 48, 21],\n",
       "       [19, 45, 16, 61, 41, 99,  2, 60],\n",
       "       [53, 10, 86, 80, 75, 25, 63, 11],\n",
       "       [89, 12, 13, 93, 67, 94, 26, 35]])"
      ]
     },
     "execution_count": 83,
     "metadata": {},
     "output_type": "execute_result"
    }
   ],
   "source": [
    "my_num2 = np.random.randint(1, 100, size = (5, 8))\n",
    "my_num2"
   ]
  },
  {
   "cell_type": "code",
   "execution_count": 87,
   "id": "physical-installation",
   "metadata": {
    "scrolled": true
   },
   "outputs": [
    {
     "data": {
      "text/plain": [
       "array([16, 10, 13, 33, 41, 25,  2, 11])"
      ]
     },
     "execution_count": 87,
     "metadata": {},
     "output_type": "execute_result"
    }
   ],
   "source": [
    "np.min(my_num2, axis = 0) #column is axis zero while row is 1\n"
   ]
  },
  {
   "cell_type": "code",
   "execution_count": 82,
   "id": "republican-oracle",
   "metadata": {},
   "outputs": [
    {
     "data": {
      "text/plain": [
       "array([59.5, 50.5, 27. , 70. , 46. ])"
      ]
     },
     "execution_count": 82,
     "metadata": {},
     "output_type": "execute_result"
    }
   ],
   "source": [
    "np.median(my_num2, axis = 1)"
   ]
  },
  {
   "cell_type": "markdown",
   "id": "beautiful-newcastle",
   "metadata": {},
   "source": [
    "Exercise 15:\n",
    "\n",
    "Create a NumPy array of 20 random integers and find the index of the maximum value.\n",
    "\n",
    "# Exercise 15"
   ]
  },
  {
   "cell_type": "code",
   "execution_count": 120,
   "id": "polish-texas",
   "metadata": {},
   "outputs": [
    {
     "name": "stdout",
     "output_type": "stream",
     "text": [
      "[15  6 16 10  3  4  9  3  2 13  3 17 16  9  9 15  6  1 16  2]\n"
     ]
    },
    {
     "data": {
      "text/plain": [
       "11"
      ]
     },
     "execution_count": 120,
     "metadata": {},
     "output_type": "execute_result"
    }
   ],
   "source": [
    "my_num = np.random.randint(1, 20, size = 20)\n",
    "print(my_num)\n",
    "np.argmax(my_num) #index of the maximum number\n"
   ]
  },
  {
   "cell_type": "markdown",
   "id": "organized-martin",
   "metadata": {},
   "source": [
    "Exercise 16:\n",
    "\n",
    "Create a NumPy array and reverse its elements.\n",
    "\n",
    "# Exercise 16"
   ]
  },
  {
   "cell_type": "code",
   "execution_count": 122,
   "id": "certain-bracelet",
   "metadata": {},
   "outputs": [
    {
     "name": "stdout",
     "output_type": "stream",
     "text": [
      "[ 1  8 16 19 15]\n"
     ]
    },
    {
     "data": {
      "text/plain": [
       "array([15, 19, 16,  8,  1])"
      ]
     },
     "execution_count": 122,
     "metadata": {},
     "output_type": "execute_result"
    }
   ],
   "source": [
    "my_num = np.random.randint(1, 20, size = 5)\n",
    "print(my_num)\n",
    "np.flip(my_num) #to reverse elements in an array"
   ]
  },
  {
   "cell_type": "markdown",
   "id": "floating-filling",
   "metadata": {},
   "source": [
    "Exercise 17:\n",
    "\n",
    "Create a 3x3 matrix and multiply it element-wise by another 3x3 matrix.\n",
    "\n",
    "# Exercise 17"
   ]
  },
  {
   "cell_type": "code",
   "execution_count": 132,
   "id": "owned-pacific",
   "metadata": {},
   "outputs": [
    {
     "name": "stdout",
     "output_type": "stream",
     "text": [
      "[[77 44 28]\n",
      " [38 67 63]\n",
      " [19 13 24]]\n"
     ]
    }
   ],
   "source": [
    "A = np.random.randint(1, 100, size = (3, 3))\n",
    "print(A)"
   ]
  },
  {
   "cell_type": "code",
   "execution_count": 133,
   "id": "virtual-carolina",
   "metadata": {},
   "outputs": [
    {
     "name": "stdout",
     "output_type": "stream",
     "text": [
      "[[99 83 68]\n",
      " [95 88 90]\n",
      " [75 81 92]]\n"
     ]
    }
   ],
   "source": [
    "B = np.random.randint(50, 100, size = (3, 3))\n",
    "print(B)"
   ]
  },
  {
   "cell_type": "code",
   "execution_count": 134,
   "id": "thorough-oasis",
   "metadata": {},
   "outputs": [
    {
     "data": {
      "text/plain": [
       "array([[7623, 3652, 1904],\n",
       "       [3610, 5896, 5670],\n",
       "       [1425, 1053, 2208]])"
      ]
     },
     "execution_count": 134,
     "metadata": {},
     "output_type": "execute_result"
    }
   ],
   "source": [
    "np.multiply(A, B)"
   ]
  },
  {
   "cell_type": "markdown",
   "id": "naughty-preliminary",
   "metadata": {},
   "source": [
    "Exercise 18:\n",
    "\n",
    "Create a diagonal matrix from a given 1D array.\n",
    "\n",
    "# Exercise 18"
   ]
  },
  {
   "cell_type": "code",
   "execution_count": 130,
   "id": "danish-spending",
   "metadata": {},
   "outputs": [
    {
     "data": {
      "text/plain": [
       "array([1, 2, 3])"
      ]
     },
     "execution_count": 130,
     "metadata": {},
     "output_type": "execute_result"
    }
   ],
   "source": [
    "my_1d_array = np.array([1, 2, 3])\n",
    "my_1d_array"
   ]
  },
  {
   "cell_type": "code",
   "execution_count": 131,
   "id": "posted-provincial",
   "metadata": {},
   "outputs": [
    {
     "data": {
      "text/plain": [
       "array([[1, 0, 0],\n",
       "       [0, 2, 0],\n",
       "       [0, 0, 3]])"
      ]
     },
     "execution_count": 131,
     "metadata": {},
     "output_type": "execute_result"
    }
   ],
   "source": [
    "np.diag(my_1d_array) #to create a diagonal matrix"
   ]
  },
  {
   "cell_type": "markdown",
   "id": "insured-native",
   "metadata": {},
   "source": [
    "Exercise 19:\n",
    "\n",
    "Perform matrix multiplication on two 2D NumPy arrays.\n",
    "\n",
    "# Exercise 19"
   ]
  },
  {
   "cell_type": "code",
   "execution_count": 145,
   "id": "quarterly-yacht",
   "metadata": {},
   "outputs": [
    {
     "data": {
      "text/plain": [
       "array([[ 6, 13],\n",
       "       [ 2,  4]])"
      ]
     },
     "execution_count": 145,
     "metadata": {},
     "output_type": "execute_result"
    }
   ],
   "source": [
    "C = np.random.randint(1, 15, size = (2, 2))\n",
    "C"
   ]
  },
  {
   "cell_type": "code",
   "execution_count": 146,
   "id": "thorough-retail",
   "metadata": {},
   "outputs": [
    {
     "data": {
      "text/plain": [
       "array([[6, 9],\n",
       "       [5, 7]])"
      ]
     },
     "execution_count": 146,
     "metadata": {},
     "output_type": "execute_result"
    }
   ],
   "source": [
    "D = np.random.randint(5, 10, size = (2, 2))\n",
    "D"
   ]
  },
  {
   "cell_type": "code",
   "execution_count": 147,
   "id": "practical-newport",
   "metadata": {},
   "outputs": [],
   "source": [
    "#help(np.matmul) does the matrix multiplication"
   ]
  },
  {
   "cell_type": "code",
   "execution_count": 144,
   "id": "contemporary-dryer",
   "metadata": {},
   "outputs": [
    {
     "data": {
      "text/plain": [
       "array([[ 44,  63],\n",
       "       [174, 243]])"
      ]
     },
     "execution_count": 144,
     "metadata": {},
     "output_type": "execute_result"
    }
   ],
   "source": [
    "np.matmul(C, D)"
   ]
  },
  {
   "cell_type": "markdown",
   "id": "gentle-composite",
   "metadata": {},
   "source": [
    "Exercise 20:\n",
    "\n",
    "Flatten a 2D NumPy array into a 1D array.\n",
    "\n",
    "# Exercise 20"
   ]
  },
  {
   "cell_type": "code",
   "execution_count": 150,
   "id": "little-magnet",
   "metadata": {},
   "outputs": [
    {
     "data": {
      "text/plain": [
       "array([11,  2,  3,  7])"
      ]
     },
     "execution_count": 150,
     "metadata": {},
     "output_type": "execute_result"
    }
   ],
   "source": [
    "F = np.random.randint(1, 12, size = (2, 2)) \n",
    "np.ravel(F)  #to flatten array, use ravel"
   ]
  },
  {
   "cell_type": "markdown",
   "id": "intermediate-distance",
   "metadata": {},
   "source": [
    "Exercise 21:\n",
    "\n",
    "Stack two NumPy arrays vertically.\n",
    "\n",
    "# Exercise 21"
   ]
  },
  {
   "cell_type": "code",
   "execution_count": 153,
   "id": "private-ghana",
   "metadata": {},
   "outputs": [
    {
     "data": {
      "text/plain": [
       "array([[77, 44, 28],\n",
       "       [38, 67, 63],\n",
       "       [19, 13, 24],\n",
       "       [99, 83, 68],\n",
       "       [95, 88, 90],\n",
       "       [75, 81, 92]])"
      ]
     },
     "execution_count": 153,
     "metadata": {},
     "output_type": "execute_result"
    }
   ],
   "source": [
    "np.vstack((A, B)) #stacking arrays vertically"
   ]
  },
  {
   "cell_type": "markdown",
   "id": "successful-shoulder",
   "metadata": {},
   "source": [
    "Exercise 22:\n",
    "\n",
    "Stack two NumPy arrays horizontally.\n",
    "\n",
    "# Exercise 22\n",
    "\n"
   ]
  },
  {
   "cell_type": "code",
   "execution_count": 159,
   "id": "encouraging-thumbnail",
   "metadata": {},
   "outputs": [
    {
     "data": {
      "text/plain": [
       "array([[77, 44, 28, 99, 83, 68],\n",
       "       [38, 67, 63, 95, 88, 90],\n",
       "       [19, 13, 24, 75, 81, 92]])"
      ]
     },
     "execution_count": 159,
     "metadata": {},
     "output_type": "execute_result"
    }
   ],
   "source": [
    "G = np.hstack((A, B)) #stacking arrays horizontally\n"
   ]
  },
  {
   "cell_type": "markdown",
   "id": "interstate-transaction",
   "metadata": {},
   "source": [
    "Exercise 23:\n",
    "\n",
    "Split a NumPy array into multiple sub-arrays.\n",
    "\n",
    "# Exercise 23\n",
    "\n"
   ]
  },
  {
   "cell_type": "code",
   "execution_count": 169,
   "id": "reflected-settlement",
   "metadata": {},
   "outputs": [
    {
     "data": {
      "text/plain": [
       "[array([[77, 44, 28],\n",
       "        [38, 67, 63],\n",
       "        [19, 13, 24]])]"
      ]
     },
     "execution_count": 169,
     "metadata": {},
     "output_type": "execute_result"
    }
   ],
   "source": [
    "np.split(A, 1)"
   ]
  },
  {
   "cell_type": "markdown",
   "id": "fiscal-extension",
   "metadata": {},
   "source": [
    "Exercise 24:\n",
    "\n",
    "Generate a random NumPy array and round each element to two decimal places.\n",
    "\n",
    "# Exercise 24"
   ]
  },
  {
   "cell_type": "code",
   "execution_count": 176,
   "id": "elegant-cutting",
   "metadata": {},
   "outputs": [
    {
     "name": "stdout",
     "output_type": "stream",
     "text": [
      "[0.         0.05263158 0.10526316 0.15789474 0.21052632 0.26315789\n",
      " 0.31578947 0.36842105 0.42105263 0.47368421 0.52631579 0.57894737\n",
      " 0.63157895 0.68421053 0.73684211 0.78947368 0.84210526 0.89473684\n",
      " 0.94736842 1.        ]\n"
     ]
    },
    {
     "data": {
      "text/plain": [
       "array([0.  , 0.05, 0.11, 0.16, 0.21, 0.26, 0.32, 0.37, 0.42, 0.47, 0.53,\n",
       "       0.58, 0.63, 0.68, 0.74, 0.79, 0.84, 0.89, 0.95, 1.  ])"
      ]
     },
     "execution_count": 176,
     "metadata": {},
     "output_type": "execute_result"
    }
   ],
   "source": [
    "my_float = np.linspace(0, 1, 20)\n",
    "print(my_float)\n",
    "\n",
    "np.round(my_float, 2)"
   ]
  },
  {
   "cell_type": "markdown",
   "id": "every-communication",
   "metadata": {},
   "source": [
    "Exercise 25:\n",
    "\n",
    "Find the unique elements of a NumPy array.\n",
    "\n",
    "# Exercise 25"
   ]
  },
  {
   "cell_type": "code",
   "execution_count": 186,
   "id": "authentic-occasions",
   "metadata": {},
   "outputs": [
    {
     "data": {
      "text/plain": [
       "array([12, 15,  9, 11, 16, 19, 11, 11,  9, 16])"
      ]
     },
     "execution_count": 186,
     "metadata": {},
     "output_type": "execute_result"
    }
   ],
   "source": [
    "my_num5 = np.random.randint(1, 23, size = 10)\n",
    "my_num5"
   ]
  },
  {
   "cell_type": "code",
   "execution_count": 187,
   "id": "owned-guard",
   "metadata": {},
   "outputs": [
    {
     "data": {
      "text/plain": [
       "array([ 9, 11, 12, 15, 16, 19])"
      ]
     },
     "execution_count": 187,
     "metadata": {},
     "output_type": "execute_result"
    }
   ],
   "source": [
    "np.unique(my_num5)"
   ]
  },
  {
   "cell_type": "markdown",
   "id": "latter-genius",
   "metadata": {},
   "source": [
    "Exercise 26:\n",
    "\n",
    "Replace all elements in a NumPy array that are less than a specific value with that value.\n",
    "\n",
    "# Exercise 26"
   ]
  },
  {
   "cell_type": "code",
   "execution_count": 190,
   "id": "noted-findings",
   "metadata": {},
   "outputs": [
    {
     "data": {
      "text/plain": [
       "array([6, 6, 6, 6, 5, 6, 7, 8, 9])"
      ]
     },
     "execution_count": 190,
     "metadata": {},
     "output_type": "execute_result"
    }
   ],
   "source": [
    "my_num3 = np.arange(1, 10)\n",
    "\n",
    "my_num3[my_num3<5] = 6\n",
    "\n",
    "my_num3"
   ]
  },
  {
   "cell_type": "markdown",
   "id": "paperback-cartridge",
   "metadata": {},
   "source": [
    "Exercise 27:\n",
    "\n",
    "Find the cumulative sum of the elements in a NumPy array.\n",
    "\n",
    "# Exercise 27"
   ]
  },
  {
   "cell_type": "code",
   "execution_count": 197,
   "id": "strategic-improvement",
   "metadata": {},
   "outputs": [
    {
     "data": {
      "text/plain": [
       "array([  0,   1,   3,   6,  10,  15,  21,  28,  36,  45,  55,  66,  78,\n",
       "        91, 105, 120, 136, 153, 171, 190])"
      ]
     },
     "execution_count": 197,
     "metadata": {},
     "output_type": "execute_result"
    }
   ],
   "source": [
    "my_num_7 = np.arange(20)\n",
    "\n",
    "np.cumsum(my_num_7) #cumulative sum"
   ]
  },
  {
   "cell_type": "markdown",
   "id": "great-fairy",
   "metadata": {},
   "source": [
    "Exercise 28:\n",
    "\n",
    "Create a NumPy array and find the number of non-zero elements in it.\n",
    "\n",
    "# Exercise 28\n",
    "\n"
   ]
  },
  {
   "cell_type": "code",
   "execution_count": 206,
   "id": "decreased-convert",
   "metadata": {},
   "outputs": [
    {
     "data": {
      "text/plain": [
       "array([1, 2, 3, 4, 5, 6, 7, 8, 9])"
      ]
     },
     "execution_count": 206,
     "metadata": {},
     "output_type": "execute_result"
    }
   ],
   "source": [
    "s = np.arange(10)\n",
    "(s[s>0])"
   ]
  },
  {
   "cell_type": "markdown",
   "id": "diagnostic-parameter",
   "metadata": {},
   "source": [
    "Exercise 29:\n",
    "\n",
    "Create a NumPy array of random integers and sort it in ascending order.\n",
    "\n",
    "# Exercise 29"
   ]
  },
  {
   "cell_type": "code",
   "execution_count": 189,
   "id": "patent-bunch",
   "metadata": {},
   "outputs": [
    {
     "data": {
      "text/plain": [
       "array([ 1,  2,  2,  5,  6,  6,  7,  8,  8,  9, 12, 13, 13, 19, 20, 24, 25,\n",
       "       27, 28, 28])"
      ]
     },
     "execution_count": 189,
     "metadata": {},
     "output_type": "execute_result"
    }
   ],
   "source": [
    "my_int5 = np.random.randint(1, 30, size = 20)\n",
    "\n",
    "my_int5\n",
    "\n",
    "\n",
    "np.sort(my_int5)"
   ]
  },
  {
   "cell_type": "markdown",
   "id": "patent-interface",
   "metadata": {},
   "source": [
    "Exercise 30:\n",
    "\n",
    "Find the row-wise and column-wise sum of a 3x3 matrix.\n",
    "\n",
    "# Exercise 30"
   ]
  },
  {
   "cell_type": "code",
   "execution_count": 193,
   "id": "advisory-builder",
   "metadata": {},
   "outputs": [
    {
     "data": {
      "text/plain": [
       "array([[38, 43, 84],\n",
       "       [61,  7, 93],\n",
       "       [60, 44, 93]])"
      ]
     },
     "execution_count": 193,
     "metadata": {},
     "output_type": "execute_result"
    }
   ],
   "source": [
    "my_rad = np.random.randint(1, 100, size = (3, 3))\n",
    "my_rad"
   ]
  },
  {
   "cell_type": "code",
   "execution_count": 195,
   "id": "quantitative-respect",
   "metadata": {},
   "outputs": [
    {
     "data": {
      "text/plain": [
       "array([159,  94, 270])"
      ]
     },
     "execution_count": 195,
     "metadata": {},
     "output_type": "execute_result"
    }
   ],
   "source": [
    "np.sum(my_rad, axis = 0) #column-wise"
   ]
  },
  {
   "cell_type": "code",
   "execution_count": 196,
   "id": "interior-charity",
   "metadata": {},
   "outputs": [
    {
     "data": {
      "text/plain": [
       "array([165, 161, 197])"
      ]
     },
     "execution_count": 196,
     "metadata": {},
     "output_type": "execute_result"
    }
   ],
   "source": [
    "np.sum(my_rad, axis = 1) #row-wise"
   ]
  },
  {
   "cell_type": "markdown",
   "id": "advance-namibia",
   "metadata": {},
   "source": [
    "Exercise 31:\n",
    "\n",
    "Generate a 2D NumPy array with random values and normalize it (scale the values between 0 and 1).\n",
    "\n",
    "# Exercise 31"
   ]
  },
  {
   "cell_type": "code",
   "execution_count": 261,
   "id": "excellent-scheduling",
   "metadata": {},
   "outputs": [
    {
     "data": {
      "text/plain": [
       "array([[-0.58333333,  0.41666667],\n",
       "       [ 0.41666667, -0.25      ]])"
      ]
     },
     "execution_count": 261,
     "metadata": {},
     "output_type": "execute_result"
    }
   ],
   "source": [
    "my_n = np.random.randint(1, 30, size = (2, 2))\n",
    "\n",
    "mean_value = np.mean(my_n)\n",
    "\n",
    "st_dev = np.std(my_n)\n",
    "\n",
    "\n",
    "min_n = np.min(my_n)\n",
    "\n",
    "max_n = np.max(my_n)\n",
    "\n",
    "normal_dist = (my_n - mean_value)/(max_n - min_n)\n",
    "\n",
    "normal_dist\n"
   ]
  },
  {
   "cell_type": "markdown",
   "id": "curious-opposition",
   "metadata": {},
   "source": [
    "Exercise 32:\n",
    "\n",
    "Create two NumPy arrays and find the dot product.\n",
    "\n",
    "# Exercise 32"
   ]
  },
  {
   "cell_type": "code",
   "execution_count": 208,
   "id": "comic-joshua",
   "metadata": {},
   "outputs": [
    {
     "data": {
      "text/plain": [
       "array([[1278, 1031, 1568],\n",
       "       [3258, 2939, 4534],\n",
       "       [1920, 1972, 2796]])"
      ]
     },
     "execution_count": 208,
     "metadata": {},
     "output_type": "execute_result"
    }
   ],
   "source": [
    "H = np.random.randint(1, 50, size = (3, 3))\n",
    "\n",
    "U = np.random.randint(12, 45, size = (3, 3))\n",
    "\n",
    "np.dot(H, U)"
   ]
  },
  {
   "cell_type": "markdown",
   "id": "alien-hamilton",
   "metadata": {},
   "source": [
    "Exercise 33:\n",
    "\n",
    "Find the trace of a square NumPy matrix.\n",
    "\n",
    "# Exercise 33\n",
    "\n"
   ]
  },
  {
   "cell_type": "code",
   "execution_count": 209,
   "id": "streaming-allocation",
   "metadata": {},
   "outputs": [
    {
     "data": {
      "text/plain": [
       "66"
      ]
     },
     "execution_count": 209,
     "metadata": {},
     "output_type": "execute_result"
    }
   ],
   "source": [
    "np.trace(H)"
   ]
  },
  {
   "cell_type": "markdown",
   "id": "beautiful-philadelphia",
   "metadata": {},
   "source": [
    "Exercise 34:\n",
    "\n",
    "Create a 2D array and swap two rows.\n",
    "\n",
    "# Exercise 34"
   ]
  },
  {
   "cell_type": "code",
   "execution_count": 277,
   "id": "informal-renewal",
   "metadata": {},
   "outputs": [
    {
     "name": "stdout",
     "output_type": "stream",
     "text": [
      "[[16  1]\n",
      " [19  4]]\n",
      "[[19  4]\n",
      " [16  1]]\n"
     ]
    }
   ],
   "source": [
    "J = np.random.randint(1, 30, size = (2, 2))\n",
    "\n",
    "print(J)\n",
    "\n",
    "J[[0, 1]] = J[[1, 0]]\n",
    "\n",
    "print(J)"
   ]
  },
  {
   "cell_type": "markdown",
   "id": "corrected-liabilities",
   "metadata": {},
   "source": [
    "Exercise 35:\n",
    "\n",
    "Create a 1D NumPy array and convert it into a column vector.\n",
    "\n",
    "# Exercise 35"
   ]
  },
  {
   "cell_type": "code",
   "execution_count": 255,
   "id": "fitted-twenty",
   "metadata": {},
   "outputs": [
    {
     "data": {
      "text/plain": [
       "array([[1],\n",
       "       [2],\n",
       "       [5],\n",
       "       [6]])"
      ]
     },
     "execution_count": 255,
     "metadata": {},
     "output_type": "execute_result"
    }
   ],
   "source": [
    "my_1d = np.array([1, 2, 5, 6])\n",
    "\n",
    "col_vec = my_1d[:, None]\n",
    "col_vec"
   ]
  },
  {
   "cell_type": "markdown",
   "id": "spectacular-massachusetts",
   "metadata": {},
   "source": [
    "Exercise 36:\n",
    "\n",
    "Find the determinant of a 3x3 matrix.\n",
    "\n",
    "# Exercise 36\n",
    "\n"
   ]
  },
  {
   "cell_type": "code",
   "execution_count": 234,
   "id": "demonstrated-printer",
   "metadata": {},
   "outputs": [
    {
     "data": {
      "text/plain": [
       "2459.9999999999995"
      ]
     },
     "execution_count": 234,
     "metadata": {},
     "output_type": "execute_result"
    }
   ],
   "source": [
    "np.random.seed(0)\n",
    "my_det = np.random.randint(1, 45, size = (3, 3))\n",
    "\n",
    "np.linalg.det(my_det)\n",
    "\n"
   ]
  },
  {
   "cell_type": "markdown",
   "id": "approved-wildlife",
   "metadata": {},
   "source": [
    "Exercise 37:\n",
    "\n",
    "Find the eigenvalues and eigenvectors of a 2x2 matrix.\n",
    "\n",
    "# Exercise 37"
   ]
  },
  {
   "cell_type": "code",
   "execution_count": 242,
   "id": "hawaiian-finland",
   "metadata": {},
   "outputs": [
    {
     "name": "stdout",
     "output_type": "stream",
     "text": [
      "Eigen value: [-0.37228132  5.37228132]\n",
      "Eigen vector: [[-0.82456484 -0.41597356]\n",
      " [ 0.56576746 -0.90937671]]\n"
     ]
    }
   ],
   "source": [
    "from numpy.linalg import eig\n",
    "\n",
    "my_eig = np.arange(1, 5).reshape(2, 2)\n",
    "w, v = eig(my_eig)\n",
    "print(f\"Eigen value: {w}\")\n",
    "print(f\"Eigen vector: {v}\")"
   ]
  },
  {
   "cell_type": "markdown",
   "id": "flying-enemy",
   "metadata": {},
   "source": [
    "Exercise 38:\n",
    "\n",
    "Solve a system of linear equations using NumPy.\n",
    "\n",
    "# Exercise 38\n"
   ]
  },
  {
   "cell_type": "code",
   "execution_count": 260,
   "id": "liquid-cancer",
   "metadata": {},
   "outputs": [
    {
     "data": {
      "text/plain": [
       "array([-1.,  1.])"
      ]
     },
     "execution_count": 260,
     "metadata": {},
     "output_type": "execute_result"
    }
   ],
   "source": [
    "k = np.array([[1, 2], [3, 5]])\n",
    "l = np.array([1, 2])\n",
    "\n",
    "np.linalg.solve(k, l)"
   ]
  },
  {
   "cell_type": "markdown",
   "id": "banned-marking",
   "metadata": {},
   "source": [
    "Exercise 39:\n",
    "\n",
    "Add Gaussian noise to a NumPy array.\n",
    "\n",
    "# Exercise 39"
   ]
  },
  {
   "cell_type": "code",
   "execution_count": 267,
   "id": "grand-spokesman",
   "metadata": {},
   "outputs": [
    {
     "data": {
      "text/plain": [
       "array([-1.17160119,  2.50169421,  0.67271777,  0.11514196,  3.88031159,\n",
       "       -1.75529845,  2.83039459,  2.49306488,  2.49882985,  2.61868804])"
      ]
     },
     "execution_count": 267,
     "metadata": {},
     "output_type": "execute_result"
    }
   ],
   "source": [
    "my_arr9 = np.linspace(1, 3, 10)\n",
    "\n",
    "my_arr9\n",
    "\n",
    "noise = np.random.normal(0, 2, len(my_arr9)) #the argument are mean, std and size\n",
    "\n",
    "noise\n",
    "\n",
    "Gauss_numpy_arr = my_arr9 + noise\n",
    "Gauss_numpy_arr"
   ]
  },
  {
   "cell_type": "markdown",
   "id": "fantastic-aquarium",
   "metadata": {},
   "source": [
    "Exercise 40:\n",
    "\n",
    "Create a 4x4 matrix and extract the diagonal elements.\n",
    "\n",
    "# Exercise 40"
   ]
  },
  {
   "cell_type": "code",
   "execution_count": 274,
   "id": "early-accountability",
   "metadata": {},
   "outputs": [
    {
     "name": "stdout",
     "output_type": "stream",
     "text": [
      "[[16 19  4  7]\n",
      " [ 7 11 13  8]\n",
      " [10 16  5 10]\n",
      " [11 18  9 17]]\n"
     ]
    },
    {
     "data": {
      "text/plain": [
       "array([16, 11,  5, 17])"
      ]
     },
     "execution_count": 274,
     "metadata": {},
     "output_type": "execute_result"
    }
   ],
   "source": [
    "np.random.seed(0)\n",
    "\n",
    "my_arrp = np.random.randint(4, 21, size = (4, 4))\n",
    "print(my_arrp)\n",
    "np.diag(my_arrp)"
   ]
  },
  {
   "cell_type": "code",
   "execution_count": null,
   "id": "coral-observer",
   "metadata": {},
   "outputs": [],
   "source": []
  }
 ],
 "metadata": {
  "kernelspec": {
   "display_name": "Python 3",
   "language": "python",
   "name": "python3"
  },
  "language_info": {
   "codemirror_mode": {
    "name": "ipython",
    "version": 3
   },
   "file_extension": ".py",
   "mimetype": "text/x-python",
   "name": "python",
   "nbconvert_exporter": "python",
   "pygments_lexer": "ipython3",
   "version": "3.9.2"
  }
 },
 "nbformat": 4,
 "nbformat_minor": 5
}
